{
 "cells": [
  {
   "cell_type": "code",
   "execution_count": 2,
   "id": "2b4efad3-3348-41cc-9eff-6ba22a8fb5ec",
   "metadata": {},
   "outputs": [],
   "source": [
    "import pandas as pd"
   ]
  },
  {
   "cell_type": "code",
   "execution_count": 26,
   "id": "7d3f0247-c2eb-41d1-a356-a0f18c0ebfb9",
   "metadata": {},
   "outputs": [
    {
     "name": "stderr",
     "output_type": "stream",
     "text": [
      "C:\\Users\\Hp\\AppData\\Local\\Temp\\ipykernel_6356\\597583743.py:1: DtypeWarning: Columns (23) have mixed types. Specify dtype option on import or set low_memory=False.\n",
      "  df= pd.read_csv(\"Amazon Sale Report.csv\")\n"
     ]
    },
    {
     "data": {
      "text/html": [
       "<div>\n",
       "<style scoped>\n",
       "    .dataframe tbody tr th:only-of-type {\n",
       "        vertical-align: middle;\n",
       "    }\n",
       "\n",
       "    .dataframe tbody tr th {\n",
       "        vertical-align: top;\n",
       "    }\n",
       "\n",
       "    .dataframe thead th {\n",
       "        text-align: right;\n",
       "    }\n",
       "</style>\n",
       "<table border=\"1\" class=\"dataframe\">\n",
       "  <thead>\n",
       "    <tr style=\"text-align: right;\">\n",
       "      <th></th>\n",
       "      <th>index</th>\n",
       "      <th>Order ID</th>\n",
       "      <th>Date</th>\n",
       "      <th>Status</th>\n",
       "      <th>Fulfilment</th>\n",
       "      <th>Sales Channel</th>\n",
       "      <th>ship-service-level</th>\n",
       "      <th>Style</th>\n",
       "      <th>SKU</th>\n",
       "      <th>Category</th>\n",
       "      <th>...</th>\n",
       "      <th>currency</th>\n",
       "      <th>Amount</th>\n",
       "      <th>ship-city</th>\n",
       "      <th>ship-state</th>\n",
       "      <th>ship-postal-code</th>\n",
       "      <th>ship-country</th>\n",
       "      <th>promotion-ids</th>\n",
       "      <th>B2B</th>\n",
       "      <th>fulfilled-by</th>\n",
       "      <th>Unnamed: 22</th>\n",
       "    </tr>\n",
       "  </thead>\n",
       "  <tbody>\n",
       "    <tr>\n",
       "      <th>0</th>\n",
       "      <td>0</td>\n",
       "      <td>405-8078784-5731545</td>\n",
       "      <td>04-30-22</td>\n",
       "      <td>Cancelled</td>\n",
       "      <td>Merchant</td>\n",
       "      <td>Amazon.in</td>\n",
       "      <td>Standard</td>\n",
       "      <td>SET389</td>\n",
       "      <td>SET389-KR-NP-S</td>\n",
       "      <td>Set</td>\n",
       "      <td>...</td>\n",
       "      <td>INR</td>\n",
       "      <td>647.62</td>\n",
       "      <td>MUMBAI</td>\n",
       "      <td>MAHARASHTRA</td>\n",
       "      <td>400081.0</td>\n",
       "      <td>IN</td>\n",
       "      <td>NaN</td>\n",
       "      <td>False</td>\n",
       "      <td>Easy Ship</td>\n",
       "      <td>NaN</td>\n",
       "    </tr>\n",
       "    <tr>\n",
       "      <th>1</th>\n",
       "      <td>1</td>\n",
       "      <td>171-9198151-1101146</td>\n",
       "      <td>04-30-22</td>\n",
       "      <td>Shipped - Delivered to Buyer</td>\n",
       "      <td>Merchant</td>\n",
       "      <td>Amazon.in</td>\n",
       "      <td>Standard</td>\n",
       "      <td>JNE3781</td>\n",
       "      <td>JNE3781-KR-XXXL</td>\n",
       "      <td>kurta</td>\n",
       "      <td>...</td>\n",
       "      <td>INR</td>\n",
       "      <td>406.00</td>\n",
       "      <td>BENGALURU</td>\n",
       "      <td>KARNATAKA</td>\n",
       "      <td>560085.0</td>\n",
       "      <td>IN</td>\n",
       "      <td>Amazon PLCC Free-Financing Universal Merchant ...</td>\n",
       "      <td>False</td>\n",
       "      <td>Easy Ship</td>\n",
       "      <td>NaN</td>\n",
       "    </tr>\n",
       "    <tr>\n",
       "      <th>2</th>\n",
       "      <td>2</td>\n",
       "      <td>404-0687676-7273146</td>\n",
       "      <td>04-30-22</td>\n",
       "      <td>Shipped</td>\n",
       "      <td>Amazon</td>\n",
       "      <td>Amazon.in</td>\n",
       "      <td>Expedited</td>\n",
       "      <td>JNE3371</td>\n",
       "      <td>JNE3371-KR-XL</td>\n",
       "      <td>kurta</td>\n",
       "      <td>...</td>\n",
       "      <td>INR</td>\n",
       "      <td>329.00</td>\n",
       "      <td>NAVI MUMBAI</td>\n",
       "      <td>MAHARASHTRA</td>\n",
       "      <td>410210.0</td>\n",
       "      <td>IN</td>\n",
       "      <td>IN Core Free Shipping 2015/04/08 23-48-5-108</td>\n",
       "      <td>True</td>\n",
       "      <td>NaN</td>\n",
       "      <td>NaN</td>\n",
       "    </tr>\n",
       "    <tr>\n",
       "      <th>3</th>\n",
       "      <td>3</td>\n",
       "      <td>403-9615377-8133951</td>\n",
       "      <td>04-30-22</td>\n",
       "      <td>Cancelled</td>\n",
       "      <td>Merchant</td>\n",
       "      <td>Amazon.in</td>\n",
       "      <td>Standard</td>\n",
       "      <td>J0341</td>\n",
       "      <td>J0341-DR-L</td>\n",
       "      <td>Western Dress</td>\n",
       "      <td>...</td>\n",
       "      <td>INR</td>\n",
       "      <td>753.33</td>\n",
       "      <td>PUDUCHERRY</td>\n",
       "      <td>PUDUCHERRY</td>\n",
       "      <td>605008.0</td>\n",
       "      <td>IN</td>\n",
       "      <td>NaN</td>\n",
       "      <td>False</td>\n",
       "      <td>Easy Ship</td>\n",
       "      <td>NaN</td>\n",
       "    </tr>\n",
       "    <tr>\n",
       "      <th>4</th>\n",
       "      <td>4</td>\n",
       "      <td>407-1069790-7240320</td>\n",
       "      <td>04-30-22</td>\n",
       "      <td>Shipped</td>\n",
       "      <td>Amazon</td>\n",
       "      <td>Amazon.in</td>\n",
       "      <td>Expedited</td>\n",
       "      <td>JNE3671</td>\n",
       "      <td>JNE3671-TU-XXXL</td>\n",
       "      <td>Top</td>\n",
       "      <td>...</td>\n",
       "      <td>INR</td>\n",
       "      <td>574.00</td>\n",
       "      <td>CHENNAI</td>\n",
       "      <td>TAMIL NADU</td>\n",
       "      <td>600073.0</td>\n",
       "      <td>IN</td>\n",
       "      <td>NaN</td>\n",
       "      <td>False</td>\n",
       "      <td>NaN</td>\n",
       "      <td>NaN</td>\n",
       "    </tr>\n",
       "  </tbody>\n",
       "</table>\n",
       "<p>5 rows × 24 columns</p>\n",
       "</div>"
      ],
      "text/plain": [
       "   index             Order ID      Date                        Status  \\\n",
       "0      0  405-8078784-5731545  04-30-22                     Cancelled   \n",
       "1      1  171-9198151-1101146  04-30-22  Shipped - Delivered to Buyer   \n",
       "2      2  404-0687676-7273146  04-30-22                       Shipped   \n",
       "3      3  403-9615377-8133951  04-30-22                     Cancelled   \n",
       "4      4  407-1069790-7240320  04-30-22                       Shipped   \n",
       "\n",
       "  Fulfilment Sales Channel  ship-service-level    Style              SKU  \\\n",
       "0   Merchant      Amazon.in           Standard   SET389   SET389-KR-NP-S   \n",
       "1   Merchant      Amazon.in           Standard  JNE3781  JNE3781-KR-XXXL   \n",
       "2     Amazon      Amazon.in          Expedited  JNE3371    JNE3371-KR-XL   \n",
       "3   Merchant      Amazon.in           Standard    J0341       J0341-DR-L   \n",
       "4     Amazon      Amazon.in          Expedited  JNE3671  JNE3671-TU-XXXL   \n",
       "\n",
       "        Category  ... currency  Amount    ship-city   ship-state  \\\n",
       "0            Set  ...      INR  647.62       MUMBAI  MAHARASHTRA   \n",
       "1          kurta  ...      INR  406.00    BENGALURU    KARNATAKA   \n",
       "2          kurta  ...      INR  329.00  NAVI MUMBAI  MAHARASHTRA   \n",
       "3  Western Dress  ...      INR  753.33   PUDUCHERRY   PUDUCHERRY   \n",
       "4            Top  ...      INR  574.00      CHENNAI   TAMIL NADU   \n",
       "\n",
       "  ship-postal-code  ship-country  \\\n",
       "0         400081.0            IN   \n",
       "1         560085.0            IN   \n",
       "2         410210.0            IN   \n",
       "3         605008.0            IN   \n",
       "4         600073.0            IN   \n",
       "\n",
       "                                       promotion-ids    B2B  fulfilled-by  \\\n",
       "0                                                NaN  False     Easy Ship   \n",
       "1  Amazon PLCC Free-Financing Universal Merchant ...  False     Easy Ship   \n",
       "2       IN Core Free Shipping 2015/04/08 23-48-5-108   True           NaN   \n",
       "3                                                NaN  False     Easy Ship   \n",
       "4                                                NaN  False           NaN   \n",
       "\n",
       "  Unnamed: 22  \n",
       "0         NaN  \n",
       "1         NaN  \n",
       "2         NaN  \n",
       "3         NaN  \n",
       "4         NaN  \n",
       "\n",
       "[5 rows x 24 columns]"
      ]
     },
     "execution_count": 26,
     "metadata": {},
     "output_type": "execute_result"
    }
   ],
   "source": [
    "df= pd.read_csv(\"Amazon Sale Report.csv\")\n",
    "\n",
    "df.head()"
   ]
  },
  {
   "cell_type": "code",
   "execution_count": 28,
   "id": "eb4c4dcc-f3f1-4aa7-b14b-fcc2aeb361bc",
   "metadata": {},
   "outputs": [
    {
     "data": {
      "text/plain": [
       "Index(['index', 'Order ID', 'Date', 'Status', 'Fulfilment', 'Sales Channel ',\n",
       "       'ship-service-level', 'Style', 'SKU', 'Category', 'Size', 'ASIN',\n",
       "       'Courier Status', 'Qty', 'currency', 'Amount', 'ship-city',\n",
       "       'ship-state', 'ship-postal-code', 'ship-country', 'promotion-ids',\n",
       "       'B2B', 'fulfilled-by', 'Unnamed: 22'],\n",
       "      dtype='object')"
      ]
     },
     "execution_count": 28,
     "metadata": {},
     "output_type": "execute_result"
    }
   ],
   "source": [
    "df.columns"
   ]
  },
  {
   "cell_type": "code",
   "execution_count": 30,
   "id": "4b3f7bd0-b119-4a69-817f-c31691487a87",
   "metadata": {},
   "outputs": [
    {
     "data": {
      "text/plain": [
       "index                     0\n",
       "Order ID                  0\n",
       "Date                      0\n",
       "Status                    0\n",
       "Fulfilment                0\n",
       "Sales Channel             0\n",
       "ship-service-level        0\n",
       "Style                     0\n",
       "SKU                       0\n",
       "Category                  0\n",
       "Size                      0\n",
       "ASIN                      0\n",
       "Courier Status         6872\n",
       "Qty                       0\n",
       "currency               7795\n",
       "Amount                 7795\n",
       "ship-city                33\n",
       "ship-state               33\n",
       "ship-postal-code         33\n",
       "ship-country             33\n",
       "promotion-ids         49153\n",
       "B2B                       0\n",
       "fulfilled-by          89698\n",
       "Unnamed: 22           49050\n",
       "dtype: int64"
      ]
     },
     "execution_count": 30,
     "metadata": {},
     "output_type": "execute_result"
    }
   ],
   "source": [
    "df.isnull().sum()"
   ]
  },
  {
   "cell_type": "code",
   "execution_count": 32,
   "id": "39ecc9b1-7783-406c-8658-99413883de33",
   "metadata": {},
   "outputs": [
    {
     "data": {
      "text/html": [
       "<div>\n",
       "<style scoped>\n",
       "    .dataframe tbody tr th:only-of-type {\n",
       "        vertical-align: middle;\n",
       "    }\n",
       "\n",
       "    .dataframe tbody tr th {\n",
       "        vertical-align: top;\n",
       "    }\n",
       "\n",
       "    .dataframe thead th {\n",
       "        text-align: right;\n",
       "    }\n",
       "</style>\n",
       "<table border=\"1\" class=\"dataframe\">\n",
       "  <thead>\n",
       "    <tr style=\"text-align: right;\">\n",
       "      <th></th>\n",
       "      <th>index</th>\n",
       "      <th>Qty</th>\n",
       "      <th>Amount</th>\n",
       "      <th>ship-postal-code</th>\n",
       "    </tr>\n",
       "  </thead>\n",
       "  <tbody>\n",
       "    <tr>\n",
       "      <th>count</th>\n",
       "      <td>128975.000000</td>\n",
       "      <td>128975.000000</td>\n",
       "      <td>121180.000000</td>\n",
       "      <td>128942.000000</td>\n",
       "    </tr>\n",
       "    <tr>\n",
       "      <th>mean</th>\n",
       "      <td>64487.000000</td>\n",
       "      <td>0.904431</td>\n",
       "      <td>648.561465</td>\n",
       "      <td>463966.236509</td>\n",
       "    </tr>\n",
       "    <tr>\n",
       "      <th>std</th>\n",
       "      <td>37232.019822</td>\n",
       "      <td>0.313354</td>\n",
       "      <td>281.211687</td>\n",
       "      <td>191476.764941</td>\n",
       "    </tr>\n",
       "    <tr>\n",
       "      <th>min</th>\n",
       "      <td>0.000000</td>\n",
       "      <td>0.000000</td>\n",
       "      <td>0.000000</td>\n",
       "      <td>110001.000000</td>\n",
       "    </tr>\n",
       "    <tr>\n",
       "      <th>25%</th>\n",
       "      <td>32243.500000</td>\n",
       "      <td>1.000000</td>\n",
       "      <td>449.000000</td>\n",
       "      <td>382421.000000</td>\n",
       "    </tr>\n",
       "    <tr>\n",
       "      <th>50%</th>\n",
       "      <td>64487.000000</td>\n",
       "      <td>1.000000</td>\n",
       "      <td>605.000000</td>\n",
       "      <td>500033.000000</td>\n",
       "    </tr>\n",
       "    <tr>\n",
       "      <th>75%</th>\n",
       "      <td>96730.500000</td>\n",
       "      <td>1.000000</td>\n",
       "      <td>788.000000</td>\n",
       "      <td>600024.000000</td>\n",
       "    </tr>\n",
       "    <tr>\n",
       "      <th>max</th>\n",
       "      <td>128974.000000</td>\n",
       "      <td>15.000000</td>\n",
       "      <td>5584.000000</td>\n",
       "      <td>989898.000000</td>\n",
       "    </tr>\n",
       "  </tbody>\n",
       "</table>\n",
       "</div>"
      ],
      "text/plain": [
       "               index            Qty         Amount  ship-postal-code\n",
       "count  128975.000000  128975.000000  121180.000000     128942.000000\n",
       "mean    64487.000000       0.904431     648.561465     463966.236509\n",
       "std     37232.019822       0.313354     281.211687     191476.764941\n",
       "min         0.000000       0.000000       0.000000     110001.000000\n",
       "25%     32243.500000       1.000000     449.000000     382421.000000\n",
       "50%     64487.000000       1.000000     605.000000     500033.000000\n",
       "75%     96730.500000       1.000000     788.000000     600024.000000\n",
       "max    128974.000000      15.000000    5584.000000     989898.000000"
      ]
     },
     "execution_count": 32,
     "metadata": {},
     "output_type": "execute_result"
    }
   ],
   "source": [
    "df.describe()"
   ]
  },
  {
   "cell_type": "code",
   "execution_count": 51,
   "id": "8fbedfc6-a6aa-4f65-a8f2-fd0c1812846b",
   "metadata": {},
   "outputs": [
    {
     "name": "stdout",
     "output_type": "stream",
     "text": [
      "Rapport Excel genere avec succès!!!!\n"
     ]
    }
   ],
   "source": [
    "from openpyxl import Workbook\n",
    "#creation d'un fichier Excel\n",
    "wb=Workbook()\n",
    "ws=wb.active\n",
    "ws.title=\"Résumé des ventes\"\n",
    "\n",
    "#ajouter l'entete\n",
    "ws.append([\"categorie\",\"Total des tailles\", \"Total des commandes\"])\n",
    "#calcul des canal de ventes et commandes par categorie\n",
    "grouped_data=df.groupby(\"Category\")[[\"Size\", \"Order ID\"]].sum()\n",
    "\n",
    "#ajouter les donnees dans excel\n",
    "for category, row in grouped_data.iterrows():\n",
    "    ws.append([category, row[\"Size\"], row[\"Order ID\"]])\n",
    "\n",
    "#sauvegarder le fichier\n",
    "wb.save(\"rapport_ventes_amazon.xlsx\")\n",
    "print(\"Rapport Excel genere avec succès!!!!\")"
   ]
  },
  {
   "cell_type": "code",
   "execution_count": 54,
   "id": "b78f9fcb-c77b-495c-bbfb-634c3afeabef",
   "metadata": {},
   "outputs": [
    {
     "name": "stdout",
     "output_type": "stream",
     "text": [
      "Requirement already satisfied: reportlab in c:\\users\\hp\\anaconda3\\lib\\site-packages (4.3.1)\n",
      "Requirement already satisfied: pillow>=9.0.0 in c:\\users\\hp\\anaconda3\\lib\\site-packages (from reportlab) (10.3.0)\n",
      "Requirement already satisfied: chardet in c:\\users\\hp\\anaconda3\\lib\\site-packages (from reportlab) (4.0.0)\n"
     ]
    }
   ],
   "source": [
    "!pip install reportlab\n"
   ]
  },
  {
   "cell_type": "code",
   "execution_count": 55,
   "id": "3a69c072-e94a-4868-9a16-8a7453ce0ce9",
   "metadata": {},
   "outputs": [],
   "source": [
    "from reportlab.lib.pagesizes import letter\n",
    "from reportlab.pdfgen import canvas\n",
    "import matplotlib.pyplot as plt"
   ]
  },
  {
   "cell_type": "code",
   "execution_count": 58,
   "id": "f9a8333e-32e1-430b-af62-e9ac35217c89",
   "metadata": {},
   "outputs": [
    {
     "name": "stderr",
     "output_type": "stream",
     "text": [
      "C:\\Users\\Hp\\AppData\\Local\\Temp\\ipykernel_6356\\936118274.py:1: UserWarning: Could not infer format, so each element will be parsed individually, falling back to `dateutil`. To ensure parsing is consistent and as-expected, please specify a format.\n",
      "  df[\"Date\"] = pd.to_datetime(df[\"Date\"])\n"
     ]
    }
   ],
   "source": [
    "df[\"Date\"] = pd.to_datetime(df[\"Date\"])"
   ]
  },
  {
   "cell_type": "code",
   "execution_count": 73,
   "id": "3ff6727b-465c-4585-ae9e-7bb613a7121f",
   "metadata": {},
   "outputs": [],
   "source": [
    "# Calcul des ventes par mois\n",
    "df[\"Month\"] = df[\"Date\"].dt.to_period(\"M\")\n",
    "monthly_order = df.groupby(\"Month\")[\"Order ID\"].sum()"
   ]
  },
  {
   "cell_type": "code",
   "execution_count": 81,
   "id": "9a238ad4-76fc-4653-b8ff-ef9cb6e17f66",
   "metadata": {},
   "outputs": [
    {
     "data": {
      "image/png": "[encoded data removed]",
      "text/plain": [
       "<Figure size 1000x500 with 1 Axes>"
      ]
     },
     "metadata": {},
     "output_type": "display_data"
    }
   ],
   "source": [
    "# Générer un graphique des commandes mensuelles\n",
    "plt.figure(figsize=(10, 5))\n",
    "monthly_order.plot(kind=\"bar\", color=\"skyblue\")\n",
    "plt.title(\"Évolution des commandes par Mois\")\n",
    "plt.xlabel(\"Mois\")\n",
    "plt.ylabel(\"Order ID\")\n",
    "plt.xticks(rotation=45)\n",
    "plt.savefig(\"amazon_commande_graphique.png\")  #"
   ]
  },
  {
   "cell_type": "code",
   "execution_count": 83,
   "id": "66378d5b-4a72-4e6d-a38d-f2fef77249e0",
   "metadata": {},
   "outputs": [],
   "source": [
    "# Création du PDF\n",
    "pdf_file = \"rapport_commandes_amazon.pdf\"\n",
    "c = canvas.Canvas(pdf_file, pagesize=letter)\n",
    "\n"
   ]
  },
  {
   "cell_type": "code",
   "execution_count": 97,
   "id": "ebe9cc8e-6ccd-4fab-ab93-8c5b48cfc843",
   "metadata": {},
   "outputs": [
    {
     "name": "stdout",
     "output_type": "stream",
     "text": [
      "📄 Rapport PDF généré avec succès !\n"
     ]
    }
   ],
   "source": [
    "# Vérifier et convertir 'Order ID' et 'Size' en nombre\n",
    "df[\"Order ID\"] = pd.to_numeric(df[\"Order ID\"], errors=\"coerce\")  \n",
    "df[\"Size\"] = pd.to_numeric(df[\"Size\"], errors=\"coerce\")\n",
    "\n",
    "# Création du PDF\n",
    "pdf_file = \"rapport_commandes_amazon.pdf\"\n",
    "c = canvas.Canvas(pdf_file, pagesize=letter)\n",
    "\n",
    "# Ajouter du texte au PDF\n",
    "c.drawString(100, 750, \"📊 Rapport des Commandes Amazon\")\n",
    "c.drawString(100, 730, f\"Total des commandes : {int(df['Order ID'].sum()):,} unités\")\n",
    "c.drawString(100, 710, f\"Total des tailles vendues : {int(df['Size'].sum()):,} articles\")\n",
    "\n",
    "# Ajouter le graphique\n",
    "#c.drawImage(\"amazon_commande_graphique.png\", 100, 500, width=400, height=200)\n",
    "\n",
    "# Sauvegarder le PDF\n",
    "c.save()\n",
    "print(\"📄 Rapport PDF généré avec succès !\")\n"
   ]
  },
  {
   "cell_type": "code",
   "execution_count": 103,
   "id": "85449a63-fbaa-4772-9901-71d130e9cbfb",
   "metadata": {},
   "outputs": [
    {
     "ename": "SMTPAuthenticationError",
     "evalue": "(535, b'5.7.8 Username and Password not accepted. For more information, go to\\n5.7.8  https://support.google.com/mail/?p=BadCredentials 5b1f17b1804b1-439b030b347sm111743885e9.26 - gsmtp')",
     "output_type": "error",
     "traceback": [
      "\u001b[1;31m---------------------------------------------------------------------------\u001b[0m",
      "\u001b[1;31mSMTPAuthenticationError\u001b[0m                   Traceback (most recent call last)",
      "Cell \u001b[1;32mIn[103], line 23\u001b[0m\n\u001b[0;32m     21\u001b[0m \u001b[38;5;66;03m# Envoyer l'e-mail\u001b[39;00m\n\u001b[0;32m     22\u001b[0m \u001b[38;5;28;01mwith\u001b[39;00m smtplib\u001b[38;5;241m.\u001b[39mSMTP_SSL(\u001b[38;5;124m\"\u001b[39m\u001b[38;5;124msmtp.gmail.com\u001b[39m\u001b[38;5;124m\"\u001b[39m, \u001b[38;5;241m465\u001b[39m) \u001b[38;5;28;01mas\u001b[39;00m smtp:\n\u001b[1;32m---> 23\u001b[0m     smtp\u001b[38;5;241m.\u001b[39mlogin(EMAIL_SENDER, EMAIL_PASSWORD)\n\u001b[0;32m     24\u001b[0m     smtp\u001b[38;5;241m.\u001b[39msend_message(msg)\n\u001b[0;32m     26\u001b[0m \u001b[38;5;28mprint\u001b[39m(\u001b[38;5;124m\"\u001b[39m\u001b[38;5;124m📧 E-mail envoyé avec succès !\u001b[39m\u001b[38;5;124m\"\u001b[39m)\n",
      "File \u001b[1;32m~\\anaconda3\\Lib\\smtplib.py:750\u001b[0m, in \u001b[0;36mSMTP.login\u001b[1;34m(self, user, password, initial_response_ok)\u001b[0m\n\u001b[0;32m    747\u001b[0m         last_exception \u001b[38;5;241m=\u001b[39m e\n\u001b[0;32m    749\u001b[0m \u001b[38;5;66;03m# We could not login successfully.  Return result of last attempt.\u001b[39;00m\n\u001b[1;32m--> 750\u001b[0m \u001b[38;5;28;01mraise\u001b[39;00m last_exception\n",
      "File \u001b[1;32m~\\anaconda3\\Lib\\smtplib.py:739\u001b[0m, in \u001b[0;36mSMTP.login\u001b[1;34m(self, user, password, initial_response_ok)\u001b[0m\n\u001b[0;32m    737\u001b[0m method_name \u001b[38;5;241m=\u001b[39m \u001b[38;5;124m'\u001b[39m\u001b[38;5;124mauth_\u001b[39m\u001b[38;5;124m'\u001b[39m \u001b[38;5;241m+\u001b[39m authmethod\u001b[38;5;241m.\u001b[39mlower()\u001b[38;5;241m.\u001b[39mreplace(\u001b[38;5;124m'\u001b[39m\u001b[38;5;124m-\u001b[39m\u001b[38;5;124m'\u001b[39m, \u001b[38;5;124m'\u001b[39m\u001b[38;5;124m_\u001b[39m\u001b[38;5;124m'\u001b[39m)\n\u001b[0;32m    738\u001b[0m \u001b[38;5;28;01mtry\u001b[39;00m:\n\u001b[1;32m--> 739\u001b[0m     (code, resp) \u001b[38;5;241m=\u001b[39m \u001b[38;5;28mself\u001b[39m\u001b[38;5;241m.\u001b[39mauth(\n\u001b[0;32m    740\u001b[0m         authmethod, \u001b[38;5;28mgetattr\u001b[39m(\u001b[38;5;28mself\u001b[39m, method_name),\n\u001b[0;32m    741\u001b[0m         initial_response_ok\u001b[38;5;241m=\u001b[39minitial_response_ok)\n\u001b[0;32m    742\u001b[0m     \u001b[38;5;66;03m# 235 == 'Authentication successful'\u001b[39;00m\n\u001b[0;32m    743\u001b[0m     \u001b[38;5;66;03m# 503 == 'Error: already authenticated'\u001b[39;00m\n\u001b[0;32m    744\u001b[0m     \u001b[38;5;28;01mif\u001b[39;00m code \u001b[38;5;129;01min\u001b[39;00m (\u001b[38;5;241m235\u001b[39m, \u001b[38;5;241m503\u001b[39m):\n",
      "File \u001b[1;32m~\\anaconda3\\Lib\\smtplib.py:662\u001b[0m, in \u001b[0;36mSMTP.auth\u001b[1;34m(self, mechanism, authobject, initial_response_ok)\u001b[0m\n\u001b[0;32m    660\u001b[0m \u001b[38;5;28;01mif\u001b[39;00m code \u001b[38;5;129;01min\u001b[39;00m (\u001b[38;5;241m235\u001b[39m, \u001b[38;5;241m503\u001b[39m):\n\u001b[0;32m    661\u001b[0m     \u001b[38;5;28;01mreturn\u001b[39;00m (code, resp)\n\u001b[1;32m--> 662\u001b[0m \u001b[38;5;28;01mraise\u001b[39;00m SMTPAuthenticationError(code, resp)\n",
      "\u001b[1;31mSMTPAuthenticationError\u001b[0m: (535, b'5.7.8 Username and Password not accepted. For more information, go to\\n5.7.8  https://support.google.com/mail/?p=BadCredentials 5b1f17b1804b1-439b030b347sm111743885e9.26 - gsmtp')"
     ]
    }
   ],
   "source": [
    "import smtplib\n",
    "import os\n",
    "from email.message import EmailMessage\n",
    "\n",
    "# Configuration des informations d'envoi\n",
    "EMAIL_SENDER = \"leonnebessala@gmail.com\"\n",
    "EMAIL_PASSWORD = \"NTFS@love0928\"\n",
    "EMAIL_RECEIVER = \"irisbessala11@gmail.com\"\n",
    "\n",
    "# Création du message\n",
    "msg = EmailMessage()\n",
    "msg[\"Subject\"] = \"📊 Rapport Automatisé des Commandes Amazon\"\n",
    "msg[\"From\"] = EMAIL_SENDER\n",
    "msg[\"To\"] = EMAIL_RECEIVER\n",
    "msg.set_content(\"Bonjour,\\n\\nVeuillez trouver ci-joint le rapport des ventes Amazon.\\n\\nCordialement.\")\n",
    "\n",
    "# Ajouter le fichier PDF en pièce jointe\n",
    "with open(\"rapport_commandes_amazon.pdf\", \"rb\") as f:\n",
    "    msg.add_attachment(f.read(), maintype=\"application\", subtype=\"pdf\", filename=\"rapport_ventes_amazon.pdf\")\n",
    "\n",
    "# Envoyer l'e-mail\n",
    "with smtplib.SMTP_SSL(\"smtp.gmail.com\", 465) as smtp:\n",
    "    smtp.login(EMAIL_SENDER, EMAIL_PASSWORD)\n",
    "    smtp.send_message(msg)\n",
    "\n",
    "print(\"📧 E-mail envoyé avec succès !\")\n"
   ]
  },
  {
   "cell_type": "code",
   "execution_count": null,
   "id": "0c897bf5-dee6-4b91-a4b5-befb5f2ed9a4",
   "metadata": {},
   "outputs": [],
   "source": []
  }
 ],
 "metadata": {
  "kernelspec": {
   "display_name": "Python 3 (ipykernel)",
   "language": "python",
   "name": "python3"
  },
  "language_info": {
   "codemirror_mode": {
    "name": "ipython",
    "version": 3
   },
   "file_extension": ".py",
   "mimetype": "text/x-python",
   "name": "python",
   "nbconvert_exporter": "python",
   "pygments_lexer": "ipython3",
   "version": "3.12.4"
  }
 },
 "nbformat": 4,
 "nbformat_minor": 5
}
